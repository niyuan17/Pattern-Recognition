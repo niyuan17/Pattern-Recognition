{
 "cells": [
  {
   "cell_type": "code",
   "execution_count": 1,
   "metadata": {
    "collapsed": true
   },
   "outputs": [],
   "source": [
    "import pandas as pd \n",
    "import scipy as sp\n",
    "from scipy import stats\n",
    "import numpy as np\n",
    "import matplotlib.pyplot as plt\n",
    "%matplotlib inline\n",
    "from sklearn.kernel_ridge import KernelRidge\n",
    "import math\n",
    "from scipy.signal import argrelextrema"
   ]
  },
  {
   "cell_type": "code",
   "execution_count": 2,
   "metadata": {
    "collapsed": true
   },
   "outputs": [],
   "source": [
    "# get conditional and unconditional return\n",
    "# all return are log-return\n",
    "def getCondRet(rets,windowIds,window):\n",
    "    '''\n",
    "    window = l+d\n",
    "    windowIds = array of beginning time id of a time window containing a pattern\n",
    "    '''\n",
    "    return rets[windowIds+window+1]\n",
    "\n",
    "def getUncondRet(rets):\n",
    "    pass\n",
    "    \n",
    "\n",
    "    \n",
    "# standardize return - for each stock\n",
    "def standardize(rets):\n",
    "    return (rets - np.mean(rets))/np.std(rets)\n",
    "    \n",
    "    \n",
    "\n",
    "\n"
   ]
  },
  {
   "cell_type": "code",
   "execution_count": 3,
   "metadata": {
    "collapsed": true
   },
   "outputs": [],
   "source": [
    "# goodness-of-fit tests\n",
    "from scipy import stats\n",
    "def gof_ks(rets1,rets2):\n",
    "    '''\n",
    "    two samples can be of different size\n",
    "    '''\n",
    "    ks,p = stats.ks_2samp(rets1, rets2)\n",
    "    return ks,p"
   ]
  },
  {
   "cell_type": "code",
   "execution_count": 4,
   "metadata": {
    "collapsed": true
   },
   "outputs": [],
   "source": [
    "from scipy.stats import norm\n",
    "from scipy.stats import chi2\n",
    "\n",
    "\n",
    "\n",
    "def gof_q(rets1,rets2):\n",
    "    '''\n",
    "    rets1 - conditional\n",
    "    rets2 - unconditional\n",
    "    '''\n",
    "    n = len(rets1)\n",
    "    decile = np.array([10,20,30,40,50,60,70,80,90,100])\n",
    "    dec_uncond = np.percentile(rets2,decile)\n",
    "    dec_cond = []\n",
    "    delta = np.zeros(10)\n",
    "\n",
    "    r = rets1[(rets1<=dec_uncond[0])]\n",
    "    dec_cond.append(r)\n",
    "    delta[0] = len(r)\n",
    "\n",
    "    for j in range(9):\n",
    "        r = rets1[(rets1<=dec_uncond[j+1]) & (rets1>=dec_uncond[j])]\n",
    "        dec_cond.append(r)\n",
    "        delta[j+1] = len(r)\n",
    "\n",
    "    # for each decile  \n",
    "    delta_pct = delta/n\n",
    "    z = (delta_pct - 0.1)*np.sqrt(n)/(0.1*0.9)\n",
    "    pvalue_delta = (1-norm.cdf(abs(z)))*2\n",
    "\n",
    "    # Q-stats and chi-square distribution\n",
    "    q = np.sum((delta - 0.1*n)**2/(0.1*n))\n",
    "    pvalue_q = 1-chi2.cdf(q, 9)\n",
    "    \n",
    "    return delta_pct,pvalue_delta,q,pvalue_q"
   ]
  },
  {
   "cell_type": "code",
   "execution_count": 5,
   "metadata": {
    "collapsed": true
   },
   "outputs": [],
   "source": [
    "def makeGofTable(rets1,rets2,idx):\n",
    "    \n",
    "    delta_pct,pvalue_delta,q,pvalue_q = gof_q(rets1,rets2)\n",
    "    ks,p = gof_ks(rets1,rets2)\n",
    "    dat = np.append(np.append(delta_pct,q),ks)\n",
    "    pv = np.append(np.append(pvalue_delta,pvalue_q),p)\n",
    "    col = [str(x) for x in np.arange(1,11)]\n",
    "    col.append('Qstat')\n",
    "    col.append('KSstat')\n",
    "    arrays = [[idx,idx], ['value', 'p-value']]\n",
    "    mindex = pd.MultiIndex.from_arrays(arrays, names=('pattern', 'stats'))\n",
    "    table = pd.DataFrame([dat,pv],columns=col,index=mindex)\n",
    "    table = table.round(3)\n",
    "    return table\n",
    "\n"
   ]
  },
  {
   "cell_type": "code",
   "execution_count": 6,
   "metadata": {},
   "outputs": [
    {
     "data": {
      "text/html": [
       "<div>\n",
       "<table border=\"1\" class=\"dataframe\">\n",
       "  <thead>\n",
       "    <tr style=\"text-align: right;\">\n",
       "      <th></th>\n",
       "      <th></th>\n",
       "      <th>1</th>\n",
       "      <th>2</th>\n",
       "      <th>3</th>\n",
       "      <th>4</th>\n",
       "      <th>5</th>\n",
       "      <th>6</th>\n",
       "      <th>7</th>\n",
       "      <th>8</th>\n",
       "      <th>9</th>\n",
       "      <th>10</th>\n",
       "      <th>Qstat</th>\n",
       "      <th>KSstat</th>\n",
       "    </tr>\n",
       "    <tr>\n",
       "      <th>pattern</th>\n",
       "      <th>stats</th>\n",
       "      <th></th>\n",
       "      <th></th>\n",
       "      <th></th>\n",
       "      <th></th>\n",
       "      <th></th>\n",
       "      <th></th>\n",
       "      <th></th>\n",
       "      <th></th>\n",
       "      <th></th>\n",
       "      <th></th>\n",
       "      <th></th>\n",
       "      <th></th>\n",
       "    </tr>\n",
       "  </thead>\n",
       "  <tbody>\n",
       "    <tr>\n",
       "      <th rowspan=\"2\" valign=\"top\">HS</th>\n",
       "      <th>value</th>\n",
       "      <td>0.43</td>\n",
       "      <td>0.1</td>\n",
       "      <td>0.130</td>\n",
       "      <td>0.090</td>\n",
       "      <td>0.090</td>\n",
       "      <td>0.03</td>\n",
       "      <td>0.070</td>\n",
       "      <td>0.04</td>\n",
       "      <td>0.01</td>\n",
       "      <td>0.01</td>\n",
       "      <td>135.6</td>\n",
       "      <td>0.383</td>\n",
       "    </tr>\n",
       "    <tr>\n",
       "      <th>p-value</th>\n",
       "      <td>0.00</td>\n",
       "      <td>1.0</td>\n",
       "      <td>0.001</td>\n",
       "      <td>0.267</td>\n",
       "      <td>0.267</td>\n",
       "      <td>0.00</td>\n",
       "      <td>0.001</td>\n",
       "      <td>0.00</td>\n",
       "      <td>0.00</td>\n",
       "      <td>0.00</td>\n",
       "      <td>0.0</td>\n",
       "      <td>0.000</td>\n",
       "    </tr>\n",
       "  </tbody>\n",
       "</table>\n",
       "</div>"
      ],
      "text/plain": [
       "                    1    2      3      4      5     6      7     8     9  \\\n",
       "pattern stats                                                              \n",
       "HS      value    0.43  0.1  0.130  0.090  0.090  0.03  0.070  0.04  0.01   \n",
       "        p-value  0.00  1.0  0.001  0.267  0.267  0.00  0.001  0.00  0.00   \n",
       "\n",
       "                   10  Qstat  KSstat  \n",
       "pattern stats                         \n",
       "HS      value    0.01  135.6   0.383  \n",
       "        p-value  0.00    0.0   0.000  "
      ]
     },
     "execution_count": 6,
     "metadata": {},
     "output_type": "execute_result"
    }
   ],
   "source": [
    "rets1 = np.random.normal(0,1,100)\n",
    "rets2 = np.random.normal(1,1,300)\n",
    "table = makeGofTable(rets1,rets2,'HS')\n",
    "table"
   ]
  },
  {
   "cell_type": "code",
   "execution_count": 7,
   "metadata": {},
   "outputs": [
    {
     "ename": "NameError",
     "evalue": "name 'delta_pct' is not defined",
     "output_type": "error",
     "traceback": [
      "\u001b[0;31m---------------------------------------------------------------------------\u001b[0m",
      "\u001b[0;31mNameError\u001b[0m                                 Traceback (most recent call last)",
      "\u001b[0;32m<ipython-input-7-41c4db7fc415>\u001b[0m in \u001b[0;36m<module>\u001b[0;34m()\u001b[0m\n\u001b[1;32m     10\u001b[0m     \u001b[1;32mreturn\u001b[0m \u001b[0mtable\u001b[0m\u001b[1;33m\u001b[0m\u001b[0m\n\u001b[1;32m     11\u001b[0m \u001b[1;33m\u001b[0m\u001b[0m\n\u001b[0;32m---> 12\u001b[0;31m \u001b[0mtable\u001b[0m \u001b[1;33m=\u001b[0m \u001b[0mmakeGOFTable\u001b[0m\u001b[1;33m(\u001b[0m\u001b[0mdelta_pct\u001b[0m\u001b[1;33m,\u001b[0m\u001b[0mpvalue_delta\u001b[0m\u001b[1;33m,\u001b[0m\u001b[0mq\u001b[0m\u001b[1;33m,\u001b[0m\u001b[0mpvalue_q\u001b[0m\u001b[1;33m,\u001b[0m\u001b[1;34m'HS'\u001b[0m\u001b[1;33m)\u001b[0m\u001b[1;33m\u001b[0m\u001b[0m\n\u001b[0m\u001b[1;32m     13\u001b[0m \u001b[0mtable\u001b[0m\u001b[1;33m\u001b[0m\u001b[0m\n",
      "\u001b[0;31mNameError\u001b[0m: name 'delta_pct' is not defined"
     ]
    }
   ],
   "source": [
    "## old code\n",
    "\n",
    "def makeGOFTable(delta_pct,pvalue_delta,q,pvalue_q,idx):\n",
    "    dat = np.append(delta_pct,q)\n",
    "    pv = np.append(pvalue_delta,pvalue_q)\n",
    "    col = [str(x) for x in np.arange(1,11)]\n",
    "    col.append('Qstat')\n",
    "    arrays = [[idx,idx], ['value', 'p-value']]\n",
    "    mindex = pd.MultiIndex.from_arrays(arrays, names=('pattern', 'stats'))\n",
    "    table = pd.DataFrame([dat,pv],columns=col,index=mindex)\n",
    "    table = table.round(3)\n",
    "    return table\n",
    "\n",
    "table = makeGOFTable(delta_pct,pvalue_delta,q,pvalue_q,'HS')\n",
    "table"
   ]
  },
  {
   "cell_type": "code",
   "execution_count": null,
   "metadata": {
    "collapsed": true
   },
   "outputs": [],
   "source": []
  }
 ],
 "metadata": {
  "anaconda-cloud": {},
  "kernelspec": {
   "display_name": "Python [default]",
   "language": "python",
   "name": "python2"
  },
  "language_info": {
   "codemirror_mode": {
    "name": "ipython",
    "version": 2
   },
   "file_extension": ".py",
   "mimetype": "text/x-python",
   "name": "python",
   "nbconvert_exporter": "python",
   "pygments_lexer": "ipython2",
   "version": "2.7.12"
  }
 },
 "nbformat": 4,
 "nbformat_minor": 2
}
