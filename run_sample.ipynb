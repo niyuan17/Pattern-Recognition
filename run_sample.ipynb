{
 "cells": [
  {
   "cell_type": "code",
   "execution_count": 1,
   "metadata": {
    "collapsed": true
   },
   "outputs": [],
   "source": [
    "import pandas as pd \n",
    "import scipy as sp\n",
    "from scipy import stats\n",
    "import numpy as np\n",
    "import matplotlib.pyplot as plt\n",
    "%matplotlib inline\n",
    "from sklearn.kernel_ridge import KernelRidge\n",
    "import math\n",
    "from scipy.signal import argrelextrema\n",
    "\n",
    "\n",
    "RET_DAYS = 1 # How many days of return we are looking at"
   ]
  },
  {
   "cell_type": "code",
   "execution_count": 2,
   "metadata": {
    "collapsed": true
   },
   "outputs": [],
   "source": [
    "def findLocalExtrema(m):\n",
    "\n",
    "    maxInd = argrelextrema(m, np.greater)[0]\n",
    "    minInd = argrelextrema(m, np.less)[0]\n",
    "    exmInd = np.sort(np.concatenate([maxInd,minInd]))\n",
    "    indicator = np.zeros(len(exmInd)) # indicate whether the extremum is a max or a min\n",
    "    \n",
    "    for i in range(len(exmInd)):\n",
    "        if exmInd[i] in maxInd:\n",
    "            indicator[i] = 1\n",
    "        elif exmInd[i] in minInd:\n",
    "            indicator[i] = -1\n",
    "           \n",
    "    return exmInd,indicator\n"
   ]
  },
  {
   "cell_type": "code",
   "execution_count": 3,
   "metadata": {
    "collapsed": true
   },
   "outputs": [],
   "source": [
    "def checkHS(m,exmInd,indicator):\n",
    "\n",
    "    flag = False\n",
    "    pid = None\n",
    "    nexm = len(exmInd)\n",
    "    exmv = m[exmInd]\n",
    "    for i in range(nexm-4):\n",
    "        upper = (exmv[i] + exmv[i+4])/2\n",
    "        lower = (exmv[i+1] + exmv[i+3])/2\n",
    "        if (indicator[i] > 0) and (exmv[i+2]> exmv[i]) and (exmv[i+2]>exmv[i+4]) \\\n",
    "        and (abs((exmv[i] - upper)/upper) <= 0.015) and (abs((exmv[i+4] - upper)/upper) <= 0.015) \\\n",
    "        and (abs((exmv[i+1] - lower)/lower) <= 0.015) and (abs((exmv[i+3] - lower)/lower) <= 0.015):\n",
    "            flag = True\n",
    "            pid = exmInd[np.arange(i,i+5)] # this is the index in the exmInd \n",
    "            break\n",
    "\n",
    "    return flag, pid\n",
    "        \n",
    "def checkIHS(m,exmInd,indicator):\n",
    "   \n",
    "    flag = False\n",
    "    pid = None\n",
    "    nexm = len(exmInd)\n",
    "    exmv = m[exmInd]\n",
    "    for i in range(nexm-4):\n",
    "        upper = (exmv[i] + exmv[i+4])/2\n",
    "        lower = (exmv[i+1] + exmv[i+3])/2\n",
    "        if (indicator[i] < 0) and (exmv[i+2] < exmv[i]) and (exmv[i+2]<exmv[i+4]) \\\n",
    "        and (abs((exmv[i] - upper)/upper) <= 0.015) and (abs((exmv[i+4] - upper)/upper) <= 0.015) \\\n",
    "        and (abs((exmv[i+1] - lower)/lower) <= 0.015) and (abs((exmv[i+3] - lower)/lower) <= 0.015):\n",
    "            flag = True\n",
    "            pid = exmInd[np.arange(i,i+5)]\n",
    "            break\n",
    "\n",
    "    return flag, pid"
   ]
  },
  {
   "cell_type": "code",
   "execution_count": 4,
   "metadata": {
    "collapsed": true
   },
   "outputs": [],
   "source": [
    "def checkBTOP(m,exmInd,indicator):\n",
    "    \n",
    "    flag = False\n",
    "    pid = None\n",
    "    nexm = len(exmInd)\n",
    "    exmv = m[exmInd]\n",
    "    for i in range(nexm-4):\n",
    "        if (indicator[i] > 0) and (exmv[i] < exmv[i+2]) and (exmv[i+2]<exmv[i+4]) and (exmv[i+1] > exmv[i+3]):\n",
    "            flag = True\n",
    "            pid = exmInd[np.arange(i,i+5)]\n",
    "            break\n",
    "       \n",
    "    return flag, pid\n",
    "\n",
    "\n",
    "def checkBBOT(m,exmInd,indicator):\n",
    " \n",
    "    flag = False\n",
    "    pid = None\n",
    "    nexm = len(exmInd)\n",
    "    exmv = m[exmInd]\n",
    "    for i in range(nexm-4):\n",
    "        if (indicator[i] < 0) and (exmv[i] > exmv[i+2]) and (exmv[i+2]>exmv[i+4]) and (exmv[i+1] < exmv[i+3]):\n",
    "            flag = True\n",
    "            pid = exmInd[np.arange(i,i+5)] # this is the index in the exmInd \n",
    "            break\n",
    "       \n",
    "    return flag, pid"
   ]
  },
  {
   "cell_type": "code",
   "execution_count": 5,
   "metadata": {
    "collapsed": true
   },
   "outputs": [],
   "source": [
    "def checkTTOP(m,exmInd,indicator):\n",
    "\n",
    "    flag = False\n",
    "    pid = None\n",
    "    nexm = len(exmInd)\n",
    "    exmv = m[exmInd]\n",
    "    for i in range(nexm-4):\n",
    "        if (indicator[i] > 0) and (exmv[i] > exmv[i+2]) and (exmv[i+2]>exmv[i+4]) and (exmv[i+1] < exmv[i+3]):\n",
    "            flag = True\n",
    "            pid = exmInd[np.arange(i,i+5)] # this is the index in the exmInd \n",
    "            break\n",
    "    return flag, pid\n",
    "\n",
    "\n",
    "def checkTBOT(m,exmInd,indicator):\n",
    "\n",
    "    flag = False\n",
    "    pid = None\n",
    "    nexm = len(exmInd)\n",
    "    exmv = m[exmInd]\n",
    "    for i in range(nexm-4):\n",
    "        if (indicator[i] < 0) and (exmv[i] < exmv[i+2]) and (exmv[i+2]<exmv[i+4]) and (exmv[i+1] > exmv[i+3]):\n",
    "            flag = True\n",
    "            pid = exmInd[np.arange(i,i+5)] # this is the index in the exmInd \n",
    "            break\n",
    "       \n",
    "    return flag, pid"
   ]
  },
  {
   "cell_type": "code",
   "execution_count": 6,
   "metadata": {
    "collapsed": true
   },
   "outputs": [],
   "source": [
    "def checkRTOP(m,exmInd,indicator):\n",
    "\n",
    "    flag = False\n",
    "    pid = None\n",
    "    nexm = len(exmInd)\n",
    "    exmv = m[exmInd]\n",
    "    top = exmInd[indicator>0]\n",
    "    bot = exmInd[indicator<0]\n",
    "    avgtop = np.mean(top)\n",
    "    avgbot = np.mean(bot)\n",
    "    for i in range(nexm-4):\n",
    "        if (indicator[i] > 0) and (all(top<avgtop*(1+0.075))) and (all(top>avgtop*(1-0.075)))\\\n",
    "        and (all(bot<avgbot*(1+0.075))) and (all(bot>avgbot*(1-0.075)))\\\n",
    "        and (min(top)>max(bot)):\n",
    "            flag = True\n",
    "            pid = exmInd[np.arange(i,i+5)] # this is the index in the exmInd \n",
    "            break\n",
    "       \n",
    "    return flag, pid\n",
    "\n",
    "\n",
    "def checkRBOT(m,exmInd,indicator):\n",
    "\n",
    "    flag = False\n",
    "    pid = None\n",
    "    nexm = len(exmInd)\n",
    "    exmv = m[exmInd]\n",
    "    top = exmInd[indicator>0]\n",
    "    bot = exmInd[indicator<0]\n",
    "    avgtop = np.mean(top)\n",
    "    avgbot = np.mean(bot)\n",
    "    for i in range(nexm-4):\n",
    "        if (indicator[i] < 0) and (all(top<avgtop*(1+0.075))) and (all(top>avgtop*(1-0.075)))\\\n",
    "        and (all(bot<avgbot*(1+0.075))) and (all(bot>avgbot*(1-0.075)))\\\n",
    "        and (min(top)>max(bot)):\n",
    "            flag = True\n",
    "            pid = exmInd[np.arange(i,i+5)] # this is the index in the exmInd \n",
    "            break\n",
    "       \n",
    "    return flag, pid"
   ]
  },
  {
   "cell_type": "code",
   "execution_count": 7,
   "metadata": {
    "collapsed": true
   },
   "outputs": [],
   "source": [
    "def checkDTOP(m,exmInd,indicator):\n",
    "\n",
    "    flag = False\n",
    "    pid = None\n",
    "    \n",
    "    if len(exmInd)<=1:\n",
    "        pass\n",
    "    else:    \n",
    "        exmv = m[exmInd]\n",
    "        ea = max(exmv[1:])\n",
    "        avge = (ea + exmv[0])/2\n",
    "        ta = np.argmax(exmv[1:])+1\n",
    "        ia = exmInd[ta]\n",
    "        if (indicator[0]>0) and (ia>exmInd[0]+22) and (abs((exmv[0]-avge)/avge)<=0.015)and (abs((ea-avge)/avge)<=0.015):\n",
    "            flag = True\n",
    "            pid =  np.array([exmInd[0],ia]) # this is the index in the exmInd\n",
    "    \n",
    "    return flag, pid\n",
    "\n",
    "\n",
    "def checkDBOT(m,exmInd,indicator):\n",
    "\n",
    "    flag = False\n",
    "    pid = None\n",
    "    \n",
    "    if len(exmInd)<=1:\n",
    "        pass\n",
    "    else:\n",
    "        exmv = m[exmInd]\n",
    "        ea = min(exmv[1:])\n",
    "        avge = (ea + exmv[0])/2\n",
    "        ta = np.argmin(exmv[1:])+1\n",
    "        ia = exmInd[ta]\n",
    "        if (indicator[0]<0) and(ia>exmInd[0]+22) and (abs((exmv[0]-avge)/avge)<=0.015)and (abs((ea-avge)/avge)<=0.015):\n",
    "            flag = True\n",
    "            pid =  np.array([exmInd[0],ia]) # this is the index in the exmInd   \n",
    "    \n",
    "    return flag, pid"
   ]
  },
  {
   "cell_type": "code",
   "execution_count": 8,
   "metadata": {
    "collapsed": true
   },
   "outputs": [],
   "source": [
    "'''\n",
    "def GuassianKernal(x,h):\n",
    "    return stats.norm.pdf(x,loc=0,scale=h)\n",
    "'''\n",
    "def GuassianKernal(x,h):\n",
    "    #return stats.norm.pdf(x,loc=0,scale=h)\n",
    "    return 1.0/h/np.sqrt(2*np.pi) * np.exp(-x*x/2.0/h/h)\n",
    "\n",
    "\n",
    "def KernelSmooth(x, signal, h, kernel):\n",
    "    m = np.zeros(len(x))\n",
    "    m_hat = np.zeros(len(x))\n",
    "    for t in range(len(x)):\n",
    "        this_x = x[t]\n",
    "        k = kernel(this_x-x,h)\n",
    "        \n",
    "        g = np.mean(k)\n",
    "        w = k/g\n",
    "        m[t] = np.mean(w*signal)\n",
    "        m_hat[t] = (np.sum(w*signal)-w[t]*signal[t])/len(x)\n",
    "        cv = np.mean((signal-m_hat)**2)\n",
    "    return m, m_hat, cv \n",
    "\n",
    "from scipy.optimize import minimize\n",
    "def chooseH(x, signal, kernel):\n",
    "    def objFunc(h):\n",
    "        m,m_hat, cv = KernelSmooth(x, signal, h, kernel)\n",
    "        return cv\n",
    "    res = minimize(objFunc, 1, \n",
    "                   method='Nelder-Mead', tol=1e-6, \n",
    "                  bounds = (0, None)\n",
    "                  )\n",
    "    m_, m_hat_, cv_ = KernelSmooth(x, signal, res.x[0], kernel)\n",
    "    return res.x[0], m_, m_hat_, cv_ "
   ]
  },
  {
   "cell_type": "code",
   "execution_count": 9,
   "metadata": {
    "collapsed": true
   },
   "outputs": [],
   "source": [
    "def getSampleData(period_num, cap_num,usePrice = True):\n",
    "    fileName = r'E:\\Final_Project\\Data\\\\samples\\\\period%s_cap%s.xlsx' % (str(period_num), str(cap_num))\n",
    "    sheetname = 'price' if usePrice else 'return'\n",
    "    data = pd.read_excel(fileName, sheetname = sheetname, index_col = 0)\n",
    "    return data"
   ]
  },
  {
   "cell_type": "code",
   "execution_count": 10,
   "metadata": {
    "scrolled": true
   },
   "outputs": [
    {
     "ename": "BadZipfile",
     "evalue": "File is not a zip file",
     "output_type": "error",
     "traceback": [
      "\u001b[1;31m---------------------------------------------------------------------------\u001b[0m",
      "\u001b[1;31mBadZipfile\u001b[0m                                Traceback (most recent call last)",
      "\u001b[1;32m<ipython-input-10-a65a118cd1e5>\u001b[0m in \u001b[0;36m<module>\u001b[1;34m()\u001b[0m\n\u001b[1;32m----> 1\u001b[1;33m \u001b[0msample_data\u001b[0m \u001b[1;33m=\u001b[0m \u001b[0mgetSampleData\u001b[0m\u001b[1;33m(\u001b[0m\u001b[1;36m1\u001b[0m\u001b[1;33m,\u001b[0m\u001b[1;36m1\u001b[0m\u001b[1;33m,\u001b[0m\u001b[0mTrue\u001b[0m\u001b[1;33m)\u001b[0m\u001b[1;33m\u001b[0m\u001b[0m\n\u001b[0m\u001b[0;32m      2\u001b[0m \u001b[0msample_data\u001b[0m\u001b[1;33m.\u001b[0m\u001b[0mtail\u001b[0m\u001b[1;33m(\u001b[0m\u001b[1;33m)\u001b[0m\u001b[1;33m\u001b[0m\u001b[0m\n",
      "\u001b[1;32m<ipython-input-9-2b4edc9f1cac>\u001b[0m in \u001b[0;36mgetSampleData\u001b[1;34m(period_num, cap_num, usePrice)\u001b[0m\n\u001b[0;32m      2\u001b[0m     \u001b[0mfileName\u001b[0m \u001b[1;33m=\u001b[0m \u001b[1;34mr'E:\\Final_Project\\Data\\\\samples\\\\period%s_cap%s.xlsx'\u001b[0m \u001b[1;33m%\u001b[0m \u001b[1;33m(\u001b[0m\u001b[0mstr\u001b[0m\u001b[1;33m(\u001b[0m\u001b[0mperiod_num\u001b[0m\u001b[1;33m)\u001b[0m\u001b[1;33m,\u001b[0m \u001b[0mstr\u001b[0m\u001b[1;33m(\u001b[0m\u001b[0mcap_num\u001b[0m\u001b[1;33m)\u001b[0m\u001b[1;33m)\u001b[0m\u001b[1;33m\u001b[0m\u001b[0m\n\u001b[0;32m      3\u001b[0m     \u001b[0msheetname\u001b[0m \u001b[1;33m=\u001b[0m \u001b[1;34m'price'\u001b[0m \u001b[1;32mif\u001b[0m \u001b[0musePrice\u001b[0m \u001b[1;32melse\u001b[0m \u001b[1;34m'return'\u001b[0m\u001b[1;33m\u001b[0m\u001b[0m\n\u001b[1;32m----> 4\u001b[1;33m     \u001b[0mdata\u001b[0m \u001b[1;33m=\u001b[0m \u001b[0mpd\u001b[0m\u001b[1;33m.\u001b[0m\u001b[0mread_excel\u001b[0m\u001b[1;33m(\u001b[0m\u001b[0mfileName\u001b[0m\u001b[1;33m,\u001b[0m \u001b[0msheetname\u001b[0m \u001b[1;33m=\u001b[0m \u001b[0msheetname\u001b[0m\u001b[1;33m,\u001b[0m \u001b[0mindex_col\u001b[0m \u001b[1;33m=\u001b[0m \u001b[1;36m0\u001b[0m\u001b[1;33m)\u001b[0m\u001b[1;33m\u001b[0m\u001b[0m\n\u001b[0m\u001b[0;32m      5\u001b[0m     \u001b[1;32mreturn\u001b[0m \u001b[0mdata\u001b[0m\u001b[1;33m\u001b[0m\u001b[0m\n",
      "\u001b[1;32mD:\\ProgramFiles\\Anaconda2\\lib\\site-packages\\pandas\\io\\excel.pyc\u001b[0m in \u001b[0;36mread_excel\u001b[1;34m(io, sheetname, header, skiprows, skip_footer, index_col, names, parse_cols, parse_dates, date_parser, na_values, thousands, convert_float, has_index_names, converters, dtype, true_values, false_values, engine, squeeze, **kwds)\u001b[0m\n\u001b[0;32m    198\u001b[0m \u001b[1;33m\u001b[0m\u001b[0m\n\u001b[0;32m    199\u001b[0m     \u001b[1;32mif\u001b[0m \u001b[1;32mnot\u001b[0m \u001b[0misinstance\u001b[0m\u001b[1;33m(\u001b[0m\u001b[0mio\u001b[0m\u001b[1;33m,\u001b[0m \u001b[0mExcelFile\u001b[0m\u001b[1;33m)\u001b[0m\u001b[1;33m:\u001b[0m\u001b[1;33m\u001b[0m\u001b[0m\n\u001b[1;32m--> 200\u001b[1;33m         \u001b[0mio\u001b[0m \u001b[1;33m=\u001b[0m \u001b[0mExcelFile\u001b[0m\u001b[1;33m(\u001b[0m\u001b[0mio\u001b[0m\u001b[1;33m,\u001b[0m \u001b[0mengine\u001b[0m\u001b[1;33m=\u001b[0m\u001b[0mengine\u001b[0m\u001b[1;33m)\u001b[0m\u001b[1;33m\u001b[0m\u001b[0m\n\u001b[0m\u001b[0;32m    201\u001b[0m \u001b[1;33m\u001b[0m\u001b[0m\n\u001b[0;32m    202\u001b[0m     return io._parse_excel(\n",
      "\u001b[1;32mD:\\ProgramFiles\\Anaconda2\\lib\\site-packages\\pandas\\io\\excel.pyc\u001b[0m in \u001b[0;36m__init__\u001b[1;34m(self, io, **kwds)\u001b[0m\n\u001b[0;32m    255\u001b[0m             \u001b[0mself\u001b[0m\u001b[1;33m.\u001b[0m\u001b[0mbook\u001b[0m \u001b[1;33m=\u001b[0m \u001b[0mxlrd\u001b[0m\u001b[1;33m.\u001b[0m\u001b[0mopen_workbook\u001b[0m\u001b[1;33m(\u001b[0m\u001b[0mfile_contents\u001b[0m\u001b[1;33m=\u001b[0m\u001b[0mdata\u001b[0m\u001b[1;33m)\u001b[0m\u001b[1;33m\u001b[0m\u001b[0m\n\u001b[0;32m    256\u001b[0m         \u001b[1;32melif\u001b[0m \u001b[0misinstance\u001b[0m\u001b[1;33m(\u001b[0m\u001b[0mio\u001b[0m\u001b[1;33m,\u001b[0m \u001b[0mcompat\u001b[0m\u001b[1;33m.\u001b[0m\u001b[0mstring_types\u001b[0m\u001b[1;33m)\u001b[0m\u001b[1;33m:\u001b[0m\u001b[1;33m\u001b[0m\u001b[0m\n\u001b[1;32m--> 257\u001b[1;33m             \u001b[0mself\u001b[0m\u001b[1;33m.\u001b[0m\u001b[0mbook\u001b[0m \u001b[1;33m=\u001b[0m \u001b[0mxlrd\u001b[0m\u001b[1;33m.\u001b[0m\u001b[0mopen_workbook\u001b[0m\u001b[1;33m(\u001b[0m\u001b[0mio\u001b[0m\u001b[1;33m)\u001b[0m\u001b[1;33m\u001b[0m\u001b[0m\n\u001b[0m\u001b[0;32m    258\u001b[0m         \u001b[1;32melse\u001b[0m\u001b[1;33m:\u001b[0m\u001b[1;33m\u001b[0m\u001b[0m\n\u001b[0;32m    259\u001b[0m             raise ValueError('Must explicitly set engine if not passing in'\n",
      "\u001b[1;32mD:\\ProgramFiles\\Anaconda2\\lib\\site-packages\\xlrd\\__init__.pyc\u001b[0m in \u001b[0;36mopen_workbook\u001b[1;34m(filename, logfile, verbosity, use_mmap, file_contents, encoding_override, formatting_info, on_demand, ragged_rows)\u001b[0m\n\u001b[0;32m    399\u001b[0m             \u001b[0mzf\u001b[0m \u001b[1;33m=\u001b[0m \u001b[0mzipfile\u001b[0m\u001b[1;33m.\u001b[0m\u001b[0mZipFile\u001b[0m\u001b[1;33m(\u001b[0m\u001b[0mtimemachine\u001b[0m\u001b[1;33m.\u001b[0m\u001b[0mBYTES_IO\u001b[0m\u001b[1;33m(\u001b[0m\u001b[0mfile_contents\u001b[0m\u001b[1;33m)\u001b[0m\u001b[1;33m)\u001b[0m\u001b[1;33m\u001b[0m\u001b[0m\n\u001b[0;32m    400\u001b[0m         \u001b[1;32melse\u001b[0m\u001b[1;33m:\u001b[0m\u001b[1;33m\u001b[0m\u001b[0m\n\u001b[1;32m--> 401\u001b[1;33m             \u001b[0mzf\u001b[0m \u001b[1;33m=\u001b[0m \u001b[0mzipfile\u001b[0m\u001b[1;33m.\u001b[0m\u001b[0mZipFile\u001b[0m\u001b[1;33m(\u001b[0m\u001b[0mfilename\u001b[0m\u001b[1;33m)\u001b[0m\u001b[1;33m\u001b[0m\u001b[0m\n\u001b[0m\u001b[0;32m    402\u001b[0m \u001b[1;33m\u001b[0m\u001b[0m\n\u001b[0;32m    403\u001b[0m         \u001b[1;31m# Workaround for some third party files that use forward slashes and\u001b[0m\u001b[1;33m\u001b[0m\u001b[1;33m\u001b[0m\u001b[0m\n",
      "\u001b[1;32mD:\\ProgramFiles\\Anaconda2\\lib\\zipfile.pyc\u001b[0m in \u001b[0;36m__init__\u001b[1;34m(self, file, mode, compression, allowZip64)\u001b[0m\n\u001b[0;32m    768\u001b[0m         \u001b[1;32mtry\u001b[0m\u001b[1;33m:\u001b[0m\u001b[1;33m\u001b[0m\u001b[0m\n\u001b[0;32m    769\u001b[0m             \u001b[1;32mif\u001b[0m \u001b[0mkey\u001b[0m \u001b[1;33m==\u001b[0m \u001b[1;34m'r'\u001b[0m\u001b[1;33m:\u001b[0m\u001b[1;33m\u001b[0m\u001b[0m\n\u001b[1;32m--> 770\u001b[1;33m                 \u001b[0mself\u001b[0m\u001b[1;33m.\u001b[0m\u001b[0m_RealGetContents\u001b[0m\u001b[1;33m(\u001b[0m\u001b[1;33m)\u001b[0m\u001b[1;33m\u001b[0m\u001b[0m\n\u001b[0m\u001b[0;32m    771\u001b[0m             \u001b[1;32melif\u001b[0m \u001b[0mkey\u001b[0m \u001b[1;33m==\u001b[0m \u001b[1;34m'w'\u001b[0m\u001b[1;33m:\u001b[0m\u001b[1;33m\u001b[0m\u001b[0m\n\u001b[0;32m    772\u001b[0m                 \u001b[1;31m# set the modified flag so central directory gets written\u001b[0m\u001b[1;33m\u001b[0m\u001b[1;33m\u001b[0m\u001b[0m\n",
      "\u001b[1;32mD:\\ProgramFiles\\Anaconda2\\lib\\zipfile.pyc\u001b[0m in \u001b[0;36m_RealGetContents\u001b[1;34m(self)\u001b[0m\n\u001b[0;32m    811\u001b[0m             \u001b[1;32mraise\u001b[0m \u001b[0mBadZipfile\u001b[0m\u001b[1;33m(\u001b[0m\u001b[1;34m\"File is not a zip file\"\u001b[0m\u001b[1;33m)\u001b[0m\u001b[1;33m\u001b[0m\u001b[0m\n\u001b[0;32m    812\u001b[0m         \u001b[1;32mif\u001b[0m \u001b[1;32mnot\u001b[0m \u001b[0mendrec\u001b[0m\u001b[1;33m:\u001b[0m\u001b[1;33m\u001b[0m\u001b[0m\n\u001b[1;32m--> 813\u001b[1;33m             \u001b[1;32mraise\u001b[0m \u001b[0mBadZipfile\u001b[0m\u001b[1;33m,\u001b[0m \u001b[1;34m\"File is not a zip file\"\u001b[0m\u001b[1;33m\u001b[0m\u001b[0m\n\u001b[0m\u001b[0;32m    814\u001b[0m         \u001b[1;32mif\u001b[0m \u001b[0mself\u001b[0m\u001b[1;33m.\u001b[0m\u001b[0mdebug\u001b[0m \u001b[1;33m>\u001b[0m \u001b[1;36m1\u001b[0m\u001b[1;33m:\u001b[0m\u001b[1;33m\u001b[0m\u001b[0m\n\u001b[0;32m    815\u001b[0m             \u001b[1;32mprint\u001b[0m \u001b[0mendrec\u001b[0m\u001b[1;33m\u001b[0m\u001b[0m\n",
      "\u001b[1;31mBadZipfile\u001b[0m: File is not a zip file"
     ]
    }
   ],
   "source": [
    "sample_data = getSampleData(1,1,True)\n",
    "sample_data.tail()"
   ]
  },
  {
   "cell_type": "code",
   "execution_count": null,
   "metadata": {
    "collapsed": true
   },
   "outputs": [],
   "source": [
    "patternLib = ['HS', 'IHS','BTOP', 'BBOT', 'TTOP', 'TBOT', 'RTOP', 'RBOT', 'DTOP', 'DBOT']\n",
    "luckyDay = {x:[] for x in patternLib}"
   ]
  },
  {
   "cell_type": "code",
   "execution_count": null,
   "metadata": {
    "collapsed": true
   },
   "outputs": [],
   "source": [
    "def findPattern_OneTS(ts, h = 3):\n",
    "    l = 35\n",
    "    d = 3\n",
    "    window = l+d\n",
    "    nobs = len(ts)\n",
    "    #nobs = 1000\n",
    "    x = np.arange(len(ts))\n",
    "    i = 0\n",
    "    luckyDay = {x:[] for x in patternLib}\n",
    "    while i+window<=nobs:\n",
    "        sample_signal = ts.values[i:i+window]\n",
    "        sample_x = np.arange(i,i+window)\n",
    "        sample_m,_,_ = KernelSmooth(sample_x, sample_signal, h, GuassianKernal)\n",
    "        exmInd,indicator = findLocalExtrema(sample_m[0:l])\n",
    "        findAny = False\n",
    "        firstExtremaIdx = 999999\n",
    "        firstPattern = None\n",
    "        earliestLastextrema = None\n",
    "        # see if we can find any patterns\n",
    "        for thisPattern in patternLib:\n",
    "            call_function = 'check'+ thisPattern + '(sample_m[0:l],exmInd,indicator)'\n",
    "            flag,pid = eval(call_function)\n",
    "            findAny  = findAny or flag\n",
    "            # if find, we need to only use the first pattern we find\n",
    "            if flag:\n",
    "                if pid[0] < firstExtremaIdx:\n",
    "                    firstExtremaIdx = pid[0]\n",
    "                    earliestLastextrema = pid[-1]\n",
    "                    firstPattern = thisPattern\n",
    "        # Record the return on the day after the period as a conditional return for the first pattern found\n",
    "        if findAny:\n",
    "            try:\n",
    "                luckyDay[firstPattern] += [ts.index[i+window+1]]\n",
    "                #luckyDay[firstPattern] = luckyDay[firstPattern] + [ts.index[i+earliestLastextrema+1]] \n",
    "            except:\n",
    "                pass\n",
    "            i += (firstExtremaIdx+1) \n",
    "        else:\n",
    "            i += 1\n",
    "    return luckyDay"
   ]
  },
  {
   "cell_type": "code",
   "execution_count": null,
   "metadata": {
    "collapsed": true
   },
   "outputs": [],
   "source": [
    "#findPattern_OneTS(sample_data.ix[:, 0], h = 1.5)"
   ]
  },
  {
   "cell_type": "code",
   "execution_count": null,
   "metadata": {
    "collapsed": true
   },
   "outputs": [],
   "source": [
    "def multiDayReturn(ts, days = 3):\n",
    "    if days == 1:\n",
    "        return ts\n",
    "    else:\n",
    "        tmp = (ts+1.).cumprod()\n",
    "        return tmp.pct_change(days).shift(-days)"
   ]
  },
  {
   "cell_type": "code",
   "execution_count": null,
   "metadata": {
    "collapsed": true
   },
   "outputs": [],
   "source": [
    "def getCondRet_OneSample(period_num = 1, cap_num =1, h = 3, days = 1):\n",
    "    sample_price = getSampleData(period_num,cap_num,True)\n",
    "    sample_return = getSampleData(period_num,cap_num,False)\n",
    "    multiday_ret = multiDayReturn(sample_return, days = days)\n",
    "    condReturn = {x:[] for x in patternLib}\n",
    "    for thisStock in sample_price:\n",
    "        ret_mean = multiday_ret[thisStock].mean()\n",
    "        ret_sig = multiday_ret[thisStock].std()\n",
    "        thisDates = findPattern_OneTS(sample_price[thisStock], h = h)\n",
    "        for thisPattern in patternLib:\n",
    "            condReturn[thisPattern] += [(multiday_ret.loc[date1, thisStock]-ret_mean  )/ret_sig  #\n",
    "                                        for date1 in thisDates[thisPattern]]\n",
    "    return condReturn\n",
    "\n",
    "def drawHistogram(period1_cap1):\n",
    "    for x in patternLib:\n",
    "        tmp = period1_cap1[x]\n",
    "        tmp = np.array([k for k in period1_cap1[x] if not np.isnan(k)])\n",
    "        print x, tmp.mean()\n",
    "        plt.hist(tmp, bins = 20)\n",
    "        plt.show()"
   ]
  },
  {
   "cell_type": "code",
   "execution_count": null,
   "metadata": {},
   "outputs": [],
   "source": [
    "period1_cap1 = getCondRet_OneSample(1,1, 1.5, RET_DAYS)\n",
    "drawHistogram(period1_cap1)"
   ]
  },
  {
   "cell_type": "code",
   "execution_count": null,
   "metadata": {},
   "outputs": [],
   "source": [
    "period1_cap2 = getCondRet_OneSample(1,2, 1.5, RET_DAYS)\n",
    "drawHistogram(period1_cap2)"
   ]
  },
  {
   "cell_type": "code",
   "execution_count": null,
   "metadata": {},
   "outputs": [],
   "source": [
    "period1_cap3 = getCondRet_OneSample(1,3, 1.5, RET_DAYS)\n",
    "drawHistogram(period1_cap3)"
   ]
  },
  {
   "cell_type": "code",
   "execution_count": null,
   "metadata": {},
   "outputs": [],
   "source": [
    "period1_cap4 = getCondRet_OneSample(1,4, 1.5, RET_DAYS)\n",
    "drawHistogram(period1_cap4)"
   ]
  },
  {
   "cell_type": "code",
   "execution_count": null,
   "metadata": {},
   "outputs": [],
   "source": [
    "period1_cap5 = getCondRet_OneSample(1,5, 1.5, RET_DAYS)\n",
    "drawHistogram(period1_cap5)"
   ]
  },
  {
   "cell_type": "code",
   "execution_count": null,
   "metadata": {
    "collapsed": true
   },
   "outputs": [],
   "source": [
    "sample_price"
   ]
  },
  {
   "cell_type": "code",
   "execution_count": null,
   "metadata": {
    "collapsed": true
   },
   "outputs": [],
   "source": [
    "def uncondReturn(period_num = 1, cap_num =1, days = 1):\n",
    "    sample_price = getSampleData(period_num,cap_num,True)\n",
    "    sample_return = getSampleData(period_num,cap_num,False)\n",
    "    multiday_ret = multiDayReturn(sample_return, days = days)\n",
    "    norm_ret = (multiday_ret - multiday_ret.mean())/ multiday_ret.std() #  \n",
    "    norm_ret = norm_ret.as_matrix().flatten()\n",
    "    norm_ret = norm_ret[~np.isnan(norm_ret)]\n",
    "    return norm_ret\n",
    "    "
   ]
  },
  {
   "cell_type": "code",
   "execution_count": null,
   "metadata": {
    "collapsed": true
   },
   "outputs": [],
   "source": [
    "uncondRet = uncondReturn(period_num = 1, cap_num =1 , days = RET_DAYS)"
   ]
  },
  {
   "cell_type": "code",
   "execution_count": null,
   "metadata": {},
   "outputs": [],
   "source": [
    "print uncondRet.mean()"
   ]
  },
  {
   "cell_type": "code",
   "execution_count": null,
   "metadata": {},
   "outputs": [],
   "source": [
    "plt.hist(uncondRet)"
   ]
  },
  {
   "cell_type": "code",
   "execution_count": null,
   "metadata": {},
   "outputs": [],
   "source": [
    "np.array(period1_cap1['DBOT']).mean()"
   ]
  },
  {
   "cell_type": "code",
   "execution_count": null,
   "metadata": {
    "collapsed": true
   },
   "outputs": [],
   "source": [
    "sample_data = pd.read_csv(r\"TYC.csv\", index_col = 0)['PRC']\n",
    "sample_data.index = range(len(sample_data))\n",
    "x = np.arange(len(sample_data))\n",
    "signal = sample_data.values\n",
    "#h_min, _, _, _  = chooseH(x, signal, GuassianKernal)\n",
    "h_min = 10\n",
    "#m,m_hat,cv = KernelSmooth(x, signal, h_min * 0.15, GuassianKernal)\n",
    "#plt.plot(m)\n",
    "#plt.show()"
   ]
  },
  {
   "cell_type": "code",
   "execution_count": null,
   "metadata": {},
   "outputs": [],
   "source": [
    "l = 35\n",
    "d = 3\n",
    "window = l+d\n",
    "#nobs = len(x)\n",
    "nobs = 1000\n",
    "\n",
    "i = 0\n",
    "while i+window<=nobs:\n",
    "\n",
    "    sample_signal = signal[i:i+window]\n",
    "    sample_x = x[i:i+window]\n",
    "    sample_m,_,_ = KernelSmooth(sample_x, sample_signal, h_min*0.15, GuassianKernal)\n",
    "    \n",
    "    exmInd,indicator = findLocalExtrema(sample_m[0:l])\n",
    "    \n",
    "    flag,pid = checkDBOT(sample_m[0:l],exmInd,indicator)\n",
    "    if flag:\n",
    "        print 'pattern detected'+str(i)+str(pid)\n",
    "        print sample_m[pid]\n",
    "        plt.plot(sample_m)\n",
    "        plt.plot(pid,sample_m[pid],'ro')\n",
    "        plt.show()\n",
    "        i = pid[0]+i\n",
    "    else:\n",
    "        i = i+1\n",
    "            \n",
    "            \n",
    "    "
   ]
  },
  {
   "cell_type": "code",
   "execution_count": null,
   "metadata": {
    "collapsed": true
   },
   "outputs": [],
   "source": [
    "### old code\n",
    "\n",
    "l = 35\n",
    "d = 3\n",
    "window = l+d\n",
    "#nobs = len(x)\n",
    "nobs = 1000\n",
    "for i in range(nobs-window):\n",
    "\n",
    "    sample_signal = signal[i:i+window]\n",
    "    sample_x = x[i:i+window]\n",
    "    sample_m,_,_ = KernelSmooth(sample_x, sample_signal, h_min*0.15, GuassianKernal)\n",
    "    flag,pid = checkHS(sample_m[0:l])\n",
    "    if flag:\n",
    "        print 'pattern detected'+str(i)+str(pid)\n",
    "        for pid_ in pid:\n",
    "            print sample_m[pid_]\n",
    "            plt.plot(sample_m)\n",
    "            plt.plot(pid_,sample_m[pid_],'ro')\n",
    "            plt.show()"
   ]
  }
 ],
 "metadata": {
  "anaconda-cloud": {},
  "kernelspec": {
   "display_name": "Python 2",
   "language": "python",
   "name": "python2"
  },
  "language_info": {
   "codemirror_mode": {
    "name": "ipython",
    "version": 2
   },
   "file_extension": ".py",
   "mimetype": "text/x-python",
   "name": "python",
   "nbconvert_exporter": "python",
   "pygments_lexer": "ipython2",
   "version": "2.7.13"
  }
 },
 "nbformat": 4,
 "nbformat_minor": 2
}
