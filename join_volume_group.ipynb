{
 "cells": [
  {
   "cell_type": "code",
   "execution_count": 2,
   "metadata": {
    "collapsed": true
   },
   "outputs": [],
   "source": [
    "# join volume\n",
    "import numpy as np\n",
    "import pandas as pd"
   ]
  },
  {
   "cell_type": "code",
   "execution_count": 37,
   "metadata": {},
   "outputs": [],
   "source": [
    "path = r'E:\\NYU MathFin\\Courses\\project & presentation\\Project\\Data'\n",
    "volfile = r'VolumeGroup.csv'\n",
    "filename = r'CondRet_50stock_35d_H1.5.csv'\n",
    "\n",
    "dfvol = pd.read_csv(path+'\\\\'+volfile, usecols=[1,2,3,4,5,6],names=['Stock','Period','Cap','Turnover1','Turnover2','VolGroup'],header=0)"
   ]
  },
  {
   "cell_type": "code",
   "execution_count": 38,
   "metadata": {},
   "outputs": [],
   "source": [
    "def cap2int(s):\n",
    "    try: \n",
    "        i = int(s[3])\n",
    "    except:\n",
    "        i = np.nan\n",
    "    return i\n",
    "\n",
    "    \n",
    "dfvol['Cap'] = dfvol['Cap'].apply(cap2int)\n",
    "\n",
    "\n",
    "def vol2int(s):\n",
    "    i = np.nan\n",
    "    try: \n",
    "        if s=='increasingVol':\n",
    "            i = int(1)\n",
    "        elif s=='decreacingVol':\n",
    "            i = int(-1)\n",
    "        elif s=='normalVol':\n",
    "            i = int(0)\n",
    "    except:\n",
    "        pass\n",
    "    return i\n",
    "\n",
    "dfvol['VolGroup'] = dfvol['VolGroup'].apply(vol2int)\n",
    "del dfvol['Cap']"
   ]
  },
  {
   "cell_type": "code",
   "execution_count": 39,
   "metadata": {},
   "outputs": [],
   "source": [
    "df = pd.read_csv(path+'\\\\'+filename, usecols=np.arange(1,12))\n",
    "dfm = df.merge(dfvol,on=['Stock','Period'],how='inner')\n",
    "dfm.to_csv(path+'\\\\'+'CondRet_50stock_35d_H1.5_vol.csv',index=False)"
   ]
  }
 ],
 "metadata": {
  "anaconda-cloud": {},
  "kernelspec": {
   "display_name": "Python [default]",
   "language": "python",
   "name": "python2"
  },
  "language_info": {
   "codemirror_mode": {
    "name": "ipython",
    "version": 2
   },
   "file_extension": ".py",
   "mimetype": "text/x-python",
   "name": "python",
   "nbconvert_exporter": "python",
   "pygments_lexer": "ipython2",
   "version": "2.7.12"
  }
 },
 "nbformat": 4,
 "nbformat_minor": 2
}
